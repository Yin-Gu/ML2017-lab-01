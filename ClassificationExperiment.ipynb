{
 "cells": [
  {
   "cell_type": "code",
   "execution_count": 3,
   "metadata": {
    "collapsed": true
   },
   "outputs": [],
   "source": [
    "from sklearn.datasets import load_svmlight_file\n",
    "from sklearn.model_selection import train_test_split\n",
    "import numpy as np\n",
    "\n",
    "# 读入数据\n",
    "X, y = load_svmlight_file('australian_scale.txt')\n",
    "\n",
    "# 将X转为多维数组，同时将偏移量b放到W中，因此为X添加一列\n",
    "X = X.toarray()\n",
    "X = np.c_[X, np.ones((X.shape[0], 1))]\n",
    "y = y.reshape(y.shape[0], 1)\n",
    "\n",
    "# 对数据进行切分，分为训练集和验证集\n",
    "X_train, X_test, y_train, y_test = train_test_split(X, y)"
   ]
  },
  {
   "cell_type": "code",
   "execution_count": 4,
   "metadata": {
    "collapsed": true
   },
   "outputs": [],
   "source": [
    "# 初始化参数、阈值和迭代次数\n",
    "W = np.zeros((X.shape[1], 1))\n",
    "ETA = 0.0001\n",
    "C = 1\n",
    "threshold = 0\n",
    "iteration_time = 100"
   ]
  },
  {
   "cell_type": "markdown",
   "metadata": {},
   "source": [
    "损失函数：$Loss = \\frac{\\|W\\|^2 }{2} + C \\sum_{i = 1}^n max(0, 1 - y_i(W'x_i + b))$"
   ]
  },
  {
   "cell_type": "code",
   "execution_count": 5,
   "metadata": {
    "collapsed": true
   },
   "outputs": [],
   "source": [
    "# 定义保存训练集损失值、验证集损失值和正确率的列表\n",
    "train_loss_list = []\n",
    "test_loss_list = []\n",
    "right_rate_list = []\n",
    "\n",
    "# 定义一个全为0的数组，后面求导的时候会用到\n",
    "zero_array = np.zeros((W.shape[0], 1))\n",
    "\n",
    "# 进行迭代\n",
    "for item in range(0, iteration_time):\n",
    "    # 对损失函数进行求导，得到梯度\n",
    "    Hinge_loss_gradient = np.zeros(W.shape)\n",
    "    for index in range(0, y_train.shape[0]):\n",
    "        Xi = X_train[index].reshape(1, X_train.shape[1]).T\n",
    "        Yi = y_train[index][0]\n",
    "        \n",
    "        if (1 - Yi * np.dot(W.T, Xi)[0][0] > 0):\n",
    "            Hinge_loss_gradient -= Yi * Xi\n",
    "        else:\n",
    "            Hinge_loss_gradient += zero_array\n",
    "    \n",
    "    \n",
    "    gradient = W + C * Hinge_loss_gradient\n",
    "    # 利用损失函数的梯度更新W\n",
    "    W = W - ETA * gradient\n",
    "    \n",
    "    \n",
    "    # 计算在训练集上的损失值并保存到列表中\n",
    "    Hinge_loss_sum = 0\n",
    "    for index in range(0, y_train.shape[0]):\n",
    "        Xi = X_train[index].reshape(1, X_train.shape[1]).T\n",
    "        Yi = y_train[index][0]\n",
    "        \n",
    "        Hinge_loss = 1 - Yi * np.dot(W.T, Xi)[0][0]\n",
    "        if (Hinge_loss > 0):\n",
    "            Hinge_loss_sum += Hinge_loss\n",
    "        else:\n",
    "            Hinge_loss_sum += 0\n",
    "    \n",
    "    train_loss = 1/2 * np.dot(W.T, W)[0][0] + C * Hinge_loss_sum\n",
    "    train_loss_list.append(train_loss)\n",
    "    \n",
    "    \n",
    "    # 计算验证集上的损失值和正确率并保存到列表中\n",
    "    right_counter = 0\n",
    "    Hinge_loss_sum = 0\n",
    "    for index in range(0, y_test.shape[0]):\n",
    "        Xi = X_test[index].reshape(1, X_test.shape[1]).T\n",
    "        Yi = y_test[index][0]\n",
    "        \n",
    "        WTXi = np.dot(W.T, Xi)[0][0]\n",
    "        \n",
    "        Hinge_loss = 1 - Yi * WTXi\n",
    "        if (Hinge_loss > 0):\n",
    "            Hinge_loss_sum += Hinge_loss\n",
    "        else:\n",
    "            Hinge_loss_sum += 0 \n",
    "            \n",
    "        # 根据阈值threshold进行判断分类，并记录分类正确的个数\n",
    "        predict = -1    # 初始化预测值为负类\n",
    "        if (WTXi > threshold):\n",
    "            predict = 1\n",
    "            \n",
    "        if (predict == Yi):\n",
    "            right_counter += 1\n",
    "            \n",
    "    right_rate = right_counter / y_test.shape[0]\n",
    "    right_rate_list.append(right_rate)\n",
    "    \n",
    "    test_loss = 1/2 * np.dot(W.T, W)[0][0] + C * Hinge_loss_sum\n",
    "    test_loss_list.append(test_loss)"
   ]
  },
  {
   "cell_type": "code",
   "execution_count": 6,
   "metadata": {},
   "outputs": [
    {
     "name": "stdout",
     "output_type": "stream",
     "text": [
      "The right rate list:  [0.815028901734104, 0.815028901734104, 0.815028901734104, 0.815028901734104, 0.815028901734104, 0.815028901734104, 0.815028901734104, 0.815028901734104, 0.815028901734104, 0.815028901734104, 0.815028901734104, 0.815028901734104, 0.8208092485549133, 0.8208092485549133, 0.8265895953757225, 0.8439306358381503, 0.8323699421965318, 0.8265895953757225, 0.8323699421965318, 0.8323699421965318, 0.838150289017341, 0.838150289017341, 0.838150289017341, 0.838150289017341, 0.838150289017341, 0.838150289017341, 0.838150289017341, 0.838150289017341, 0.838150289017341, 0.838150289017341, 0.838150289017341, 0.838150289017341, 0.838150289017341, 0.838150289017341, 0.838150289017341, 0.838150289017341, 0.838150289017341, 0.838150289017341, 0.838150289017341, 0.838150289017341, 0.838150289017341, 0.838150289017341, 0.838150289017341, 0.838150289017341, 0.838150289017341, 0.838150289017341, 0.838150289017341, 0.838150289017341, 0.838150289017341, 0.838150289017341, 0.838150289017341, 0.838150289017341, 0.838150289017341, 0.838150289017341, 0.838150289017341, 0.838150289017341, 0.838150289017341, 0.838150289017341, 0.838150289017341, 0.838150289017341, 0.838150289017341, 0.838150289017341, 0.838150289017341, 0.838150289017341, 0.838150289017341, 0.838150289017341, 0.838150289017341, 0.838150289017341, 0.838150289017341, 0.838150289017341, 0.838150289017341, 0.838150289017341, 0.838150289017341, 0.838150289017341, 0.838150289017341, 0.838150289017341, 0.838150289017341, 0.838150289017341, 0.838150289017341, 0.838150289017341, 0.838150289017341, 0.838150289017341, 0.838150289017341, 0.838150289017341, 0.838150289017341, 0.838150289017341, 0.838150289017341, 0.838150289017341, 0.838150289017341, 0.838150289017341, 0.838150289017341, 0.838150289017341, 0.838150289017341, 0.838150289017341, 0.838150289017341, 0.838150289017341, 0.838150289017341, 0.838150289017341, 0.838150289017341, 0.838150289017341]\n"
     ]
    }
   ],
   "source": [
    "# 输出正确率列表\n",
    "print(\"The right rate list: \", right_rate_list)"
   ]
  },
  {
   "cell_type": "code",
   "execution_count": 7,
   "metadata": {},
   "outputs": [
    {
     "data": {
      "image/png": "[encoded data removed]",
      "text/plain": [
       "<matplotlib.figure.Figure at 0x854aeb8>"
      ]
     },
     "metadata": {},
     "output_type": "display_data"
    }
   ],
   "source": [
    "# 将从训练集和验证集上得到的损失值列表画成图像\n",
    "import matplotlib.pyplot as plt\n",
    "\n",
    "plt.xlabel('iteration time')\n",
    "plt.ylabel('loss')\n",
    "\n",
    "x = range(len(train_loss_list))\n",
    "plt.plot(x, train_loss_list, 'b-', label = 'train')\n",
    "\n",
    "x = range(len(test_loss_list))\n",
    "plt.plot(x, test_loss_list, 'r-', label = 'test')\n",
    "\n",
    "plt.grid(True)\n",
    "plt.legend()\n",
    "plt.show()"
   ]
  }
 ],
 "metadata": {
  "kernelspec": {
   "display_name": "Python 3",
   "language": "python",
   "name": "python3"
  },
  "language_info": {
   "codemirror_mode": {
    "name": "ipython",
    "version": 3
   },
   "file_extension": ".py",
   "mimetype": "text/x-python",
   "name": "python",
   "nbconvert_exporter": "python",
   "pygments_lexer": "ipython3",
   "version": "3.6.1"
  }
 },
 "nbformat": 4,
 "nbformat_minor": 2
}
