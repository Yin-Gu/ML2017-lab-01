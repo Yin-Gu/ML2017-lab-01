{
 "cells": [
  {
   "cell_type": "code",
   "execution_count": 17,
   "metadata": {
    "collapsed": true
   },
   "outputs": [],
   "source": [
    "from sklearn.datasets import load_svmlight_file\n",
    "from sklearn.model_selection import train_test_split\n",
    "import numpy as np\n",
    "\n",
    "# 读取数据\n",
    "X, y = load_svmlight_file('housing_scale.txt')\n",
    "\n",
    "# 将X转为多维数组，同时将偏移量b放到W中，因此为X添加一列\n",
    "X = X.toarray()\n",
    "X = np.c_[X, np.ones((X.shape[0], 1))]\n",
    "y = y.reshape(y.shape[0], 1)\n",
    "\n",
    "# 对数据进行切分，分为训练集和验证集\n",
    "X_train, X_test, y_train, y_test = train_test_split(X, y)"
   ]
  },
  {
   "cell_type": "code",
   "execution_count": 18,
   "metadata": {
    "collapsed": true
   },
   "outputs": [],
   "source": [
    "# 初始化参数和迭代次数\n",
    "W = np.zeros((X.shape[1], 1))\n",
    "ETA = 0.001    #学习率\n",
    "LAMBDA = 1\n",
    "iteration_time = 100"
   ]
  },
  {
   "cell_type": "markdown",
   "metadata": {},
   "source": [
    "损失函数： $Loss = \\frac{\\lambda}{2 } \\|W\\|^2 + \\frac{1}{2} \\|y - XW\\|^2$"
   ]
  },
  {
   "cell_type": "markdown",
   "metadata": {},
   "source": [
    "梯度： $Gradient = \\lambda W + X'XW - X'y$"
   ]
  },
  {
   "cell_type": "code",
   "execution_count": 19,
   "metadata": {
    "collapsed": true
   },
   "outputs": [],
   "source": [
    "# 定义保存训练集损失值、验证集损失值和正确率的列表\n",
    "train_loss_list = []\n",
    "test_loss_list = []\n",
    "\n",
    "# 进行迭代\n",
    "for item in range(0, iteration_time):\n",
    "    # 计算梯度\n",
    "    gradient = LAMBDA * W + np.dot(np.dot(X_train.T, X_train), W) - np.dot(X_train.T, y_train)\n",
    "    \n",
    "    # 利用梯度更新W\n",
    "    W = W - ETA * gradient\n",
    "    \n",
    "    # 计算训练集上的损失值\n",
    "    X_trainW = np.dot(X_train , W)\n",
    "    train_loss = LAMBDA * 1/2 * np.dot(W.T, W) + 1/2 * np.dot((y_train - X_trainW).T, (y_train - X_trainW))\n",
    "    train_loss_list.append(train_loss[0][0])\n",
    "    \n",
    "    # 计算验证集上的损失值\n",
    "    X_testW = np.dot(X_test, W)\n",
    "    test_loss = LAMBDA * 1/2 * np.dot(W.T, W) + 1/2 * np.dot((y_test - X_testW).T, (y_test - X_testW))\n",
    "    test_loss_list.append(test_loss[0][0])"
   ]
  },
  {
   "cell_type": "code",
   "execution_count": 20,
   "metadata": {},
   "outputs": [
    {
     "data": {
      "image/png": "[encoded data removed]",
      "text/plain": [
       "<matplotlib.figure.Figure at 0x95a7898>"
      ]
     },
     "metadata": {},
     "output_type": "display_data"
    }
   ],
   "source": [
    "# 将从训练集和验证集上得到的损失值列表画成图像\n",
    "import matplotlib.pyplot as plt\n",
    "\n",
    "plt.xlabel('iteration time')\n",
    "plt.ylabel('loss')\n",
    "\n",
    "x = range(len(train_loss_list))\n",
    "plt.plot(x, train_loss_list, 'b-', label = 'train')\n",
    "\n",
    "x = range(len(test_loss_list))\n",
    "plt.plot(x, test_loss_list, 'r-', label = 'test')\n",
    "\n",
    "plt.grid(True)\n",
    "plt.legend()\n",
    "plt.show()"
   ]
  }
 ],
 "metadata": {
  "kernelspec": {
   "display_name": "Python 3",
   "language": "python",
   "name": "python3"
  },
  "language_info": {
   "codemirror_mode": {
    "name": "ipython",
    "version": 3
   },
   "file_extension": ".py",
   "mimetype": "text/x-python",
   "name": "python",
   "nbconvert_exporter": "python",
   "pygments_lexer": "ipython3",
   "version": "3.6.1"
  }
 },
 "nbformat": 4,
 "nbformat_minor": 2
}
